{
 "cells": [
  {
   "cell_type": "code",
   "execution_count": 4,
   "id": "52aafcc2-67a0-406b-89b2-650b00e414b0",
   "metadata": {},
   "outputs": [],
   "source": [
    "from bs4 import BeautifulSoup\n",
    "import requests\n",
    "import csv\n",
    "import datetime as dt\n",
    "import time\n",
    "import smtplib"
   ]
  },
  {
   "cell_type": "code",
   "execution_count": 12,
   "id": "0b6efc16-93a8-42d9-a2ea-c21b239a28a1",
   "metadata": {},
   "outputs": [],
   "source": [
    "URL=\"https://www.amazon.in/s?k=vivo+mobiles+5g+new+2025&crid=1PMHMSHMO9VHM&sprefix=vivo+mobiles%2Caps%2C1336&ref=nb_sb_ss_mvt-t11-ranker_1_12\""
   ]
  },
  {
   "cell_type": "code",
   "execution_count": 13,
   "id": "ca0f243d-dae0-4879-93c6-27d1f0d9e2bb",
   "metadata": {},
   "outputs": [],
   "source": [
    "headers = {\"User-Agent\": \"Mozilla/5.0 (Windows NT 10.0; Win64; x64) AppleWebKit/537.36 (KHTML, like Gecko) Chrome/140.0.0.0 Safari/537.36\", \"Accept-Encoding\":\"gzip, deflate\", \"Accept\":\"text/html,application/xhtml+xml,application/xml;q=0.9,*/*;q=0.8\", \"DNT\":\"1\",\"Connection\":\"close\", \"Upgrade-Insecure-Requests\":\"1\"}"
   ]
  },
  {
   "cell_type": "markdown",
   "id": "43f49ec3-223b-4edd-8d2e-cdfc5c8d8778",
   "metadata": {},
   "source": [
    "#### COPY CONTENT FROM WEBPAGE"
   ]
  },
  {
   "cell_type": "code",
   "execution_count": 14,
   "id": "d9405d7d-8ca9-4f65-9943-467eb58dd873",
   "metadata": {},
   "outputs": [],
   "source": [
    "page = requests.get(URL, headers=headers)"
   ]
  },
  {
   "cell_type": "code",
   "execution_count": 15,
   "id": "b94c4d00-4cd9-4f86-be5b-ac98bcde1a33",
   "metadata": {},
   "outputs": [],
   "source": [
    "soup=BeautifulSoup(page.text, \"html\")"
   ]
  },
  {
   "cell_type": "code",
   "execution_count": null,
   "id": "47db0959-dc8c-4f8c-81c8-60759d459d88",
   "metadata": {},
   "outputs": [],
   "source": [
    "print(soup.prettify())"
   ]
  },
  {
   "cell_type": "markdown",
   "id": "93ea6443-83ab-49fa-8ea5-ba19df63d8ae",
   "metadata": {},
   "source": [
    "#### EXTRACT PHONE NAMES FROM WEB"
   ]
  },
  {
   "cell_type": "code",
   "execution_count": 16,
   "id": "f173bd16-3f47-4ce0-a616-2ec0f18f762a",
   "metadata": {},
   "outputs": [
    {
     "data": {
      "text/plain": [
       "[<h2 aria-label=\"Vivo T4 Lite 5G Titanium Gold_128GB+6GB\" class=\"a-size-medium a-spacing-none a-color-base a-text-normal\"><span>Vivo T4 Lite 5G Titanium Gold_128GB+6GB</span></h2>,\n",
       " <h2 aria-label=\"VIVO Y19 5G (Titanium Silver, 6GB RAM, 128GB Storage) with No Cost EMI/Additional Exchange Offers\" class=\"a-size-medium a-spacing-none a-color-base a-text-normal\"><span>VIVO Y19 5G (Titanium Silver, 6GB RAM, 128GB Storage) with No Cost EMI/Additional Exchange Offers</span></h2>,\n",
       " <h2 aria-label=\"Vivo V60 5G (Mist Gray, 8GB RAM, 256GB Storage) with No Cost EMI/Additional Exchange Offers\" class=\"a-size-medium a-spacing-none a-color-base a-text-normal\"><span>Vivo V60 5G (Mist Gray, 8GB RAM, 256GB Storage) with No Cost EMI/Additional Exchange Offers</span></h2>,\n",
       " <h2 aria-label=\"iQOO Z10x 5G (Titanium, 8GB RAM, 256GB Storage) | 6500 mAh Large Capacity Battery | Dimensity 7300 Processor | Military-Grade Durability\" class=\"a-size-medium a-spacing-none a-color-base a-text-normal\"><span>iQOO Z10x 5G (Titanium, 8GB RAM, 256GB Storage) | 6500 mAh Large Capacity Battery | Dimensity 7300 Processor | Military-Grade Durability</span></h2>,\n",
       " <h2 aria-label=\"vivo V60e 5G (Elite Purple, 8GB RAM, 256GB Storage) with No Cost EMI/Additional Exchange Offers\" class=\"a-size-medium a-spacing-none a-color-base a-text-normal\"><span>vivo V60e 5G (Elite Purple, 8GB RAM, 256GB Storage) with No Cost EMI/Additional Exchange Offers</span></h2>,\n",
       " <h2 aria-label=\"Vivo Y400 5G (Olive Green, 8GB RAM, 128GB Storage) with No Cost EMI/Additional Exchange Offers\" class=\"a-size-medium a-spacing-none a-color-base a-text-normal\"><span>Vivo Y400 5G (Olive Green, 8GB RAM, 128GB Storage) with No Cost EMI/Additional Exchange Offers</span></h2>,\n",
       " <h2 aria-label=\"Vivo Y400 Pro 5G (Nebula Purple, 8GB RAM, 256GB Storage) with No Cost EMI/Additional Exchange Offers\" class=\"a-size-medium a-spacing-none a-color-base a-text-normal\"><span>Vivo Y400 Pro 5G (Nebula Purple, 8GB RAM, 256GB Storage) with No Cost EMI/Additional Exchange Offers</span></h2>,\n",
       " <h2 aria-label=\"VIVO Y19 5G (Majestic Green, 6GB RAM, 128GB Storage) with No Cost EMI/Additional Exchange Offers\" class=\"a-size-medium a-spacing-none a-color-base a-text-normal\"><span>VIVO Y19 5G (Majestic Green, 6GB RAM, 128GB Storage) with No Cost EMI/Additional Exchange Offers</span></h2>,\n",
       " <h2 aria-label=\"Vivo T4 Lite 5G Prism Blue_128GB+4GB\" class=\"a-size-medium a-spacing-none a-color-base a-text-normal\"><span>Vivo T4 Lite 5G Prism Blue_128GB+4GB</span></h2>,\n",
       " <h2 aria-label=\"vivo Y31 5G (Rose Red, 6GB RAM, 128GB Storage) with No Cost EMI/Additional Exchange Offers\" class=\"a-size-medium a-spacing-none a-color-base a-text-normal\"><span>vivo Y31 5G (Rose Red, 6GB RAM, 128GB Storage) with No Cost EMI/Additional Exchange Offers</span></h2>,\n",
       " <h2 aria-label=\"Sponsored Ad - Samsung Galaxy M17 5G (Sapphire Black, 8GB RAM, 128GB Storage)| 50MP OIS Triple Camera| Gorilla Glass Victus| IP54 Rating| 6 Gen of OS Upgrades| AI| Circle to Search| Gemini Live| Without Charger\" class=\"a-size-medium a-spacing-none a-color-base a-text-normal\"><span>Samsung Galaxy M17 5G (Sapphire Black, 8GB RAM, 128GB Storage)| 50MP OIS Triple Camera| Gorilla Glass Victus| IP54 Rating| 6 Gen of OS Upgrades| AI| Circle to Search| Gemini Live| Without Charger</span></h2>,\n",
       " <h2 aria-label=\"vivo Y31 Pro 5G (Mocha Brown, 8GB RAM, 128GB Storage) with No Cost EMI/Additional Exchange Offers\" class=\"a-size-medium a-spacing-none a-color-base a-text-normal\"><span>vivo Y31 Pro 5G (Mocha Brown, 8GB RAM, 128GB Storage) with No Cost EMI/Additional Exchange Offers</span></h2>,\n",
       " <h2 aria-label=\"vivo T4R (White, 8GB RAM, 256GB Storage)\" class=\"a-size-medium a-spacing-none a-color-base a-text-normal\"><span>vivo T4R (White, 8GB RAM, 256GB Storage)</span></h2>,\n",
       " <h2 aria-label=\"VIVO T4 5G (Emerald Blaze, 8GB RAM+128GB Storage)\" class=\"a-size-medium a-spacing-none a-color-base a-text-normal\"><span>VIVO T4 5G (Emerald Blaze, 8GB RAM+128GB Storage)</span></h2>,\n",
       " <h2 aria-label=\"VIVO T4R 5G, Arctic White (8GB, 128GB)\" class=\"a-size-medium a-spacing-none a-color-base a-text-normal\"><span>VIVO T4R 5G, Arctic White (8GB, 128GB)</span></h2>,\n",
       " <h2 aria-label=\"VIVO Y19 5G (Titanium Silver, 4GB RAM, 64GB Storage) with No Cost EMI/Additional Exchange Offers\" class=\"a-size-medium a-spacing-none a-color-base a-text-normal\"><span>VIVO Y19 5G (Titanium Silver, 4GB RAM, 64GB Storage) with No Cost EMI/Additional Exchange Offers</span></h2>,\n",
       " <h2 aria-label=\"VIVO T4x (Pronto Purple, 8GB, 128GB)\" class=\"a-size-medium a-spacing-none a-color-base a-text-normal\"><span>VIVO T4x (Pronto Purple, 8GB, 128GB)</span></h2>]"
      ]
     },
     "execution_count": 16,
     "metadata": {},
     "output_type": "execute_result"
    }
   ],
   "source": [
    "s1=soup.find_all('h2',class_=\"a-size-medium a-spacing-none a-color-base a-text-normal\")\n",
    "s1"
   ]
  },
  {
   "cell_type": "code",
   "execution_count": 17,
   "id": "0285ca88-f3bf-46ad-905a-f9d42b45f071",
   "metadata": {},
   "outputs": [
    {
     "data": {
      "text/plain": [
       "['Vivo T4 Lite 5G Titanium Gold_128GB+6GB',\n",
       " 'VIVO Y19 5G (Titanium Silver, 6GB RAM, 128GB Storage) with No Cost EMI/Additional Exchange Offers',\n",
       " 'Vivo V60 5G (Mist Gray, 8GB RAM, 256GB Storage) with No Cost EMI/Additional Exchange Offers',\n",
       " 'iQOO Z10x 5G (Titanium, 8GB RAM, 256GB Storage) | 6500 mAh Large Capacity Battery | Dimensity 7300 Processor | Military-Grade Durability',\n",
       " 'vivo V60e 5G (Elite Purple, 8GB RAM, 256GB Storage) with No Cost EMI/Additional Exchange Offers',\n",
       " 'Vivo Y400 5G (Olive Green, 8GB RAM, 128GB Storage) with No Cost EMI/Additional Exchange Offers',\n",
       " 'Vivo Y400 Pro 5G (Nebula Purple, 8GB RAM, 256GB Storage) with No Cost EMI/Additional Exchange Offers',\n",
       " 'VIVO Y19 5G (Majestic Green, 6GB RAM, 128GB Storage) with No Cost EMI/Additional Exchange Offers',\n",
       " 'Vivo T4 Lite 5G Prism Blue_128GB+4GB',\n",
       " 'vivo Y31 5G (Rose Red, 6GB RAM, 128GB Storage) with No Cost EMI/Additional Exchange Offers',\n",
       " 'Samsung Galaxy M17 5G (Sapphire Black, 8GB RAM, 128GB Storage)| 50MP OIS Triple Camera| Gorilla Glass Victus| IP54 Rating| 6 Gen of OS Upgrades| AI| Circle to Search| Gemini Live| Without Charger',\n",
       " 'vivo Y31 Pro 5G (Mocha Brown, 8GB RAM, 128GB Storage) with No Cost EMI/Additional Exchange Offers',\n",
       " 'vivo T4R (White, 8GB RAM, 256GB Storage)',\n",
       " 'VIVO T4 5G (Emerald Blaze, 8GB RAM+128GB Storage)',\n",
       " 'VIVO T4R 5G, Arctic White (8GB, 128GB)',\n",
       " 'VIVO Y19 5G (Titanium Silver, 4GB RAM, 64GB Storage) with No Cost EMI/Additional Exchange Offers',\n",
       " 'VIVO T4x (Pronto Purple, 8GB, 128GB)']"
      ]
     },
     "execution_count": 17,
     "metadata": {},
     "output_type": "execute_result"
    }
   ],
   "source": [
    "phone_names=[name.text.strip() for name in s1]\n",
    "phone_names"
   ]
  },
  {
   "cell_type": "code",
   "execution_count": 18,
   "id": "89633b26-086d-402b-a5fd-f1f19e6d8f5c",
   "metadata": {},
   "outputs": [
    {
     "data": {
      "text/plain": [
       "['Vivo T4 Lite 5G Titanium Gold_128GB+6GB',\n",
       " 'VIVO Y19 5G (Titanium Silver, 6GB RAM, 128GB Storage)',\n",
       " 'Vivo V60 5G (Mist Gray, 8GB RAM, 256GB Storage)',\n",
       " 'QOO Z10x 5G (Titanium, 8GB RAM, 256GB Storage)',\n",
       " 'vivo V60e 5G (Elite Purple, 8GB RAM, 256GB Storage)',\n",
       " 'Vivo Y400 5G (Olive Green, 8GB RAM, 128GB Storage)',\n",
       " 'Vivo Y400 Pro 5G (Nebula Purple, 8GB RAM, 256GB Storage)',\n",
       " 'VIVO Y19 5G (Majestic Green, 6GB RAM, 128GB Storage)',\n",
       " 'Vivo T4 Lite 5G Prism Blue_128GB+4GB',\n",
       " 'vivo Y31 5G (Rose Red, 6GB RAM, 128GB Storage)',\n",
       " 'Samsung Galaxy M17 5G (Sapphire Black, 8GB RAM, 128GB Storage)',\n",
       " 'vivo Y31 Pro 5G (Mocha Brown, 8GB RAM, 128GB Storage)',\n",
       " 'vivo T4R (White, 8GB RAM, 256GB Storage)',\n",
       " 'VIVO T4 5G (Emerald Blaze, 8GB RAM+128GB Storage)',\n",
       " 'VIVO T4R 5G, Arctic White (8GB, 128GB)',\n",
       " 'VIVO Y19 5G (Titanium Silver, 4GB RAM, 64GB Storage)',\n",
       " 'VIVO T4x (Pronto Purple, 8GB, 128GB)']"
      ]
     },
     "execution_count": 18,
     "metadata": {},
     "output_type": "execute_result"
    }
   ],
   "source": [
    "mobile_name=[]\n",
    "for i in phone_names:\n",
    "    n=i.split('|')[0]\n",
    "    mobile_name.append(n.strip('with No Cost EMI/Additional Exchange Offers'))\n",
    "mobile_name"
   ]
  },
  {
   "cell_type": "markdown",
   "id": "bb72b6e3-437b-4378-ad51-b21fc31e2017",
   "metadata": {},
   "source": [
    "### EXTRACT PHONE PRICE FROM WEB"
   ]
  },
  {
   "cell_type": "code",
   "execution_count": 19,
   "id": "4a2f1599-67e8-4c35-b0ac-5d4273dda0bf",
   "metadata": {},
   "outputs": [
    {
     "data": {
      "text/plain": [
       "[<span class=\"a-price-whole\">11,749</span>,\n",
       " <span class=\"a-price-whole\">38,999</span>,\n",
       " <span class=\"a-price-whole\">15,998</span>,\n",
       " <span class=\"a-price-whole\">31,999</span>,\n",
       " <span class=\"a-price-whole\">21,998</span>,\n",
       " <span class=\"a-price-whole\">26,998</span>,\n",
       " <span class=\"a-price-whole\">12,999</span>,\n",
       " <span class=\"a-price-whole\">9,999</span>,\n",
       " <span class=\"a-price-whole\">16,499</span>,\n",
       " <span class=\"a-price-whole\">15,999</span>,\n",
       " <span class=\"a-price-whole\">18,999</span>,\n",
       " <span class=\"a-price-whole\">23,599</span>,\n",
       " <span class=\"a-price-whole\">20,998</span>,\n",
       " <span class=\"a-price-whole\">21,480</span>,\n",
       " <span class=\"a-price-whole\">10,499</span>,\n",
       " <span class=\"a-price-whole\">14,499</span>]"
      ]
     },
     "execution_count": 19,
     "metadata": {},
     "output_type": "execute_result"
    }
   ],
   "source": [
    "price=soup.find_all(class_=\"a-price-whole\")\n",
    "price"
   ]
  },
  {
   "cell_type": "code",
   "execution_count": 20,
   "id": "cf64f5fa-44f3-475e-8986-27c541dd5f0b",
   "metadata": {},
   "outputs": [
    {
     "data": {
      "text/plain": [
       "['11,749',\n",
       " '38,999',\n",
       " '15,998',\n",
       " '31,999',\n",
       " '21,998',\n",
       " '26,998',\n",
       " '12,999',\n",
       " '9,999',\n",
       " '16,499',\n",
       " '15,999',\n",
       " '18,999',\n",
       " '23,599',\n",
       " '20,998',\n",
       " '21,480',\n",
       " '10,499',\n",
       " '14,499']"
      ]
     },
     "execution_count": 20,
     "metadata": {},
     "output_type": "execute_result"
    }
   ],
   "source": [
    "Price=[rate.text.strip() for rate in price]\n",
    "Price"
   ]
  },
  {
   "cell_type": "markdown",
   "id": "0294401c-27cd-492b-a6d6-32ef135b399d",
   "metadata": {},
   "source": [
    "### Create a Timestamp for your output to track when data was collected"
   ]
  },
  {
   "cell_type": "code",
   "execution_count": 8,
   "id": "d6a8e1a6-b86a-4cad-b340-031cf6224ae7",
   "metadata": {},
   "outputs": [
    {
     "name": "stdout",
     "output_type": "stream",
     "text": [
      "2025-10-29\n"
     ]
    }
   ],
   "source": [
    "today = dt.date.today()\n",
    "print(today)"
   ]
  },
  {
   "cell_type": "markdown",
   "id": "ef8aba44-c732-4abe-97a7-4ab5521b44a6",
   "metadata": {},
   "source": [
    "#### CREATE CSV AND WRITE HEADERS"
   ]
  },
  {
   "cell_type": "raw",
   "id": "dd15fa61-dc1d-4c62-b5e9-0c05fcddd58f",
   "metadata": {},
   "source": [
    "RUN FIRST TIME ONLY AND THEN COMMENT IT\n",
    "OTHERWISE IT OVERWRITE THE PREVIOUS CONTENT"
   ]
  },
  {
   "cell_type": "code",
   "execution_count": 33,
   "id": "3a9058ff-d6bc-4d32-b0bf-8c1220870f20",
   "metadata": {},
   "outputs": [],
   "source": [
    "header = ['Mobile Name', 'Price', 'Date']\n",
    "with open('Mobile_Price_Dataset.csv', 'w', newline='',encoding='UTF8') as f:\n",
    "    writer = csv.writer(f)\n",
    "    writer.writerow(header)"
   ]
  },
  {
   "cell_type": "markdown",
   "id": "d08a5374-6ad0-402b-9374-9843366e5af2",
   "metadata": {},
   "source": [
    "#### LOAD DATA INTO THE CSV FILE"
   ]
  },
  {
   "cell_type": "code",
   "execution_count": 22,
   "id": "44262920-a85e-4fa2-8c6a-fc0be4be8084",
   "metadata": {},
   "outputs": [
    {
     "data": {
      "text/plain": [
       "'VIVO T4x (Pronto Purple, 8GB, 128GB)'"
      ]
     },
     "execution_count": 22,
     "metadata": {},
     "output_type": "execute_result"
    }
   ],
   "source": [
    "mobile_name.pop()"
   ]
  },
  {
   "cell_type": "raw",
   "id": "0871b540-fe0e-4c83-843f-6fe0877c4058",
   "metadata": {},
   "source": [
    "CHECK BOTH LIST HAS SAME LENGTH BEFORE LOADING"
   ]
  },
  {
   "cell_type": "code",
   "execution_count": 29,
   "id": "2cc1869a-c9c4-4be0-a04a-1b390bd908ef",
   "metadata": {},
   "outputs": [
    {
     "name": "stdout",
     "output_type": "stream",
     "text": [
      "16\n",
      "16\n"
     ]
    }
   ],
   "source": [
    "print(len(mobile_name))\n",
    "print(len(Price))"
   ]
  },
  {
   "cell_type": "code",
   "execution_count": 26,
   "id": "2e697f06-6601-4e66-a98e-5aaae6c77fec",
   "metadata": {},
   "outputs": [],
   "source": [
    "for i in range(len(mobile_name)):\n",
    "    data = [mobile_name[i], Price[i], today]\n",
    "    with open('Mobile_Price_Dataset.csv', 'a', encoding='UTF8') as f:\n",
    "        writer = csv.writer(f)\n",
    "        writer.writerow(data)"
   ]
  },
  {
   "cell_type": "raw",
   "id": "4e697afd-cea1-4a9d-b470-e29a57a98983",
   "metadata": {},
   "source": [
    "CHECK THE CSV FILE IF IT IS SUCCESSFULLY LOADED"
   ]
  },
  {
   "cell_type": "markdown",
   "id": "87771358-9961-40f5-a0d5-6f3fe3c29d4c",
   "metadata": {},
   "source": [
    "#### USING PANDAS TO VIEW CSV FILE"
   ]
  },
  {
   "cell_type": "code",
   "execution_count": 35,
   "id": "b6ff2948-31db-494d-9586-8c387c4f5511",
   "metadata": {},
   "outputs": [
    {
     "data": {
      "text/html": [
       "<div>\n",
       "<style scoped>\n",
       "    .dataframe tbody tr th:only-of-type {\n",
       "        vertical-align: middle;\n",
       "    }\n",
       "\n",
       "    .dataframe tbody tr th {\n",
       "        vertical-align: top;\n",
       "    }\n",
       "\n",
       "    .dataframe thead th {\n",
       "        text-align: right;\n",
       "    }\n",
       "</style>\n",
       "<table border=\"1\" class=\"dataframe\">\n",
       "  <thead>\n",
       "    <tr style=\"text-align: right;\">\n",
       "      <th></th>\n",
       "      <th>Mobile Name</th>\n",
       "      <th>Price</th>\n",
       "      <th>Date</th>\n",
       "    </tr>\n",
       "  </thead>\n",
       "  <tbody>\n",
       "    <tr>\n",
       "      <th>0</th>\n",
       "      <td>Vivo T4 Lite 5G Titanium Gold_128GB+6GB</td>\n",
       "      <td>11,749</td>\n",
       "      <td>2025-10-29</td>\n",
       "    </tr>\n",
       "    <tr>\n",
       "      <th>1</th>\n",
       "      <td>VIVO Y19 5G (Majestic Green, 6GB RAM, 128GB St...</td>\n",
       "      <td>12,999</td>\n",
       "      <td>2025-10-29</td>\n",
       "    </tr>\n",
       "    <tr>\n",
       "      <th>2</th>\n",
       "      <td>VIVO Y19 5G (Titanium Silver, 6GB RAM, 128GB S...</td>\n",
       "      <td>21,998</td>\n",
       "      <td>2025-10-29</td>\n",
       "    </tr>\n",
       "    <tr>\n",
       "      <th>3</th>\n",
       "      <td>Vivo Y400 5G (Olive Green, 8GB RAM, 128GB Stor...</td>\n",
       "      <td>26,998</td>\n",
       "      <td>2025-10-29</td>\n",
       "    </tr>\n",
       "    <tr>\n",
       "      <th>4</th>\n",
       "      <td>Vivo Y400 Pro 5G (Nebula Purple, 8GB RAM, 256G...</td>\n",
       "      <td>38,999</td>\n",
       "      <td>2025-10-29</td>\n",
       "    </tr>\n",
       "    <tr>\n",
       "      <th>5</th>\n",
       "      <td>Vivo V60 5G (Mist Gray, 8GB RAM, 256GB Storage)</td>\n",
       "      <td>31,999</td>\n",
       "      <td>2025-10-29</td>\n",
       "    </tr>\n",
       "    <tr>\n",
       "      <th>6</th>\n",
       "      <td>vivo V60e 5G (Elite Purple, 8GB RAM, 256GB Sto...</td>\n",
       "      <td>20,998</td>\n",
       "      <td>2025-10-29</td>\n",
       "    </tr>\n",
       "    <tr>\n",
       "      <th>7</th>\n",
       "      <td>VIVO T4 5G (Emerald Blaze, 8GB RAM+128GB Storage)</td>\n",
       "      <td>16,499</td>\n",
       "      <td>2025-10-29</td>\n",
       "    </tr>\n",
       "    <tr>\n",
       "      <th>8</th>\n",
       "      <td>vivo Y31 5G (Rose Red, 6GB RAM, 128GB Storage)</td>\n",
       "      <td>10,499</td>\n",
       "      <td>2025-10-29</td>\n",
       "    </tr>\n",
       "    <tr>\n",
       "      <th>9</th>\n",
       "      <td>VIVO Y19 5G (Titanium Silver, 4GB RAM, 64GB St...</td>\n",
       "      <td>12,998</td>\n",
       "      <td>2025-10-29</td>\n",
       "    </tr>\n",
       "    <tr>\n",
       "      <th>10</th>\n",
       "      <td>QOO Z10x 5G (Ultramarine, 6GB RAM, 128GB Storage)</td>\n",
       "      <td>14,499</td>\n",
       "      <td>2025-10-29</td>\n",
       "    </tr>\n",
       "    <tr>\n",
       "      <th>11</th>\n",
       "      <td>VIVO T4x (Pronto Purple, 8GB, 128GB)</td>\n",
       "      <td>9,998</td>\n",
       "      <td>2025-10-29</td>\n",
       "    </tr>\n",
       "    <tr>\n",
       "      <th>12</th>\n",
       "      <td>QOO Z10 Lite 5G (Titanium Blue, 4GB RAM, 128GB...</td>\n",
       "      <td>23,599</td>\n",
       "      <td>2025-10-29</td>\n",
       "    </tr>\n",
       "    <tr>\n",
       "      <th>13</th>\n",
       "      <td>vivo T4R (White, 8GB RAM, 256GB Storage)</td>\n",
       "      <td>21,480</td>\n",
       "      <td>2025-10-29</td>\n",
       "    </tr>\n",
       "    <tr>\n",
       "      <th>14</th>\n",
       "      <td>VIVO T4R 5G, Arctic White (8GB, 128GB)</td>\n",
       "      <td>19,498</td>\n",
       "      <td>2025-10-29</td>\n",
       "    </tr>\n",
       "  </tbody>\n",
       "</table>\n",
       "</div>"
      ],
      "text/plain": [
       "                                          Mobile Name   Price        Date\n",
       "0             Vivo T4 Lite 5G Titanium Gold_128GB+6GB  11,749  2025-10-29\n",
       "1   VIVO Y19 5G (Majestic Green, 6GB RAM, 128GB St...  12,999  2025-10-29\n",
       "2   VIVO Y19 5G (Titanium Silver, 6GB RAM, 128GB S...  21,998  2025-10-29\n",
       "3   Vivo Y400 5G (Olive Green, 8GB RAM, 128GB Stor...  26,998  2025-10-29\n",
       "4   Vivo Y400 Pro 5G (Nebula Purple, 8GB RAM, 256G...  38,999  2025-10-29\n",
       "5     Vivo V60 5G (Mist Gray, 8GB RAM, 256GB Storage)  31,999  2025-10-29\n",
       "6   vivo V60e 5G (Elite Purple, 8GB RAM, 256GB Sto...  20,998  2025-10-29\n",
       "7   VIVO T4 5G (Emerald Blaze, 8GB RAM+128GB Storage)  16,499  2025-10-29\n",
       "8      vivo Y31 5G (Rose Red, 6GB RAM, 128GB Storage)  10,499  2025-10-29\n",
       "9   VIVO Y19 5G (Titanium Silver, 4GB RAM, 64GB St...  12,998  2025-10-29\n",
       "10  QOO Z10x 5G (Ultramarine, 6GB RAM, 128GB Storage)  14,499  2025-10-29\n",
       "11               VIVO T4x (Pronto Purple, 8GB, 128GB)   9,998  2025-10-29\n",
       "12  QOO Z10 Lite 5G (Titanium Blue, 4GB RAM, 128GB...  23,599  2025-10-29\n",
       "13           vivo T4R (White, 8GB RAM, 256GB Storage)  21,480  2025-10-29\n",
       "14             VIVO T4R 5G, Arctic White (8GB, 128GB)  19,498  2025-10-29"
      ]
     },
     "execution_count": 35,
     "metadata": {},
     "output_type": "execute_result"
    }
   ],
   "source": [
    "import pandas as pd\n",
    "\n",
    "df = pd.read_csv('Mobile_Price_Dataset.csv')\n",
    "df"
   ]
  },
  {
   "cell_type": "markdown",
   "id": "03e717f7-daf4-43eb-81bb-f5dac67da6a1",
   "metadata": {},
   "source": [
    "#### FOR DAILY PRICE UPDATES ON CSV FILE"
   ]
  },
  {
   "cell_type": "raw",
   "id": "28728628-c3c1-4739-89d7-a370e2dc9da2",
   "metadata": {},
   "source": [
    "Combine all of the above code into one function"
   ]
  },
  {
   "cell_type": "code",
   "execution_count": 30,
   "id": "4f8ec699-da31-4874-b3b7-f9d668da4421",
   "metadata": {},
   "outputs": [],
   "source": [
    "def check_price():\n",
    "    \n",
    "    URL=\"https://www.amazon.in/s?k=vivo+mobiles+5g+new+2025&crid=1PMHMSHMO9VHM&sprefix=vivo+mobiles%2Caps%2C1336&ref=nb_sb_ss_mvt-t11-ranker_1_12\"\n",
    "    headers = {\"User-Agent\": \"Mozilla/5.0 (Windows NT 10.0; Win64; x64) AppleWebKit/537.36 (KHTML, like Gecko) Chrome/140.0.0.0 Safari/537.36\", \"Accept-Encoding\":\"gzip, deflate\", \"Accept\":\"text/html,application/xhtml+xml,application/xml;q=0.9,*/*;q=0.8\", \"DNT\":\"1\",\"Connection\":\"close\", \"Upgrade-Insecure-Requests\":\"1\"}\n",
    "\n",
    "    # COPY CONTENT FROM WEBPAGE\n",
    "    page = requests.get(URL, headers=headers)\n",
    "    soup=BeautifulSoup(page.text, \"html\")\n",
    "    \n",
    "    # EXTRACT PHONE NAMES FROM WEB\n",
    "    s1=soup.find_all('h2',class_=\"a-size-medium a-spacing-none a-color-base a-text-normal\")\n",
    "\n",
    "    phone_names=[name.text.strip() for name in s1]\n",
    "\n",
    "    mobile_name=[]\n",
    "    for i in phone_names:\n",
    "        n=i.split('|')[0]\n",
    "        mobile_name.append(n.strip('with No Cost EMI/Additional Exchange Offers'))\n",
    "\n",
    "    # EXTRACT PHONE PRICE FROM WEB\n",
    "    price=soup.find_all(class_=\"a-price-whole\")\n",
    "    Price=[rate.text.strip() for rate in price]\n",
    "\n",
    "    # Create a Timestamp for your output to track when data was collected\n",
    "    today = dt.date.today()\n",
    "\n",
    "    if len(mobile_name)!=len(Price):\n",
    "        mobile_name.pop()\n",
    "\n",
    "    # LOAD DATA INTO THE CSV FILE\n",
    "    for i in range(len(mobile_name)):\n",
    "        data = [mobile_name[i], Price[i], today]\n",
    "        with open('Mobile_Price_Dataset.csv', 'a', encoding='UTF8') as f:\n",
    "            writer = csv.writer(f)\n",
    "            writer.writerow(data)"
   ]
  },
  {
   "cell_type": "code",
   "execution_count": 34,
   "id": "6f406b04-8d5a-4d92-9836-8e36a0b841b2",
   "metadata": {},
   "outputs": [],
   "source": [
    "check_price()"
   ]
  },
  {
   "cell_type": "raw",
   "id": "c4119fec-c138-4615-baf2-9851e575ec87",
   "metadata": {},
   "source": [
    "# Runs check_price after setting a time and it load data into your CSV\n",
    "\n",
    "while(True):\n",
    "    check_price()\n",
    "    time.sleep(86400) # here 86400 represents, 1 day --> 86400 seconds"
   ]
  },
  {
   "cell_type": "markdown",
   "id": "f2b7e53c-9888-4708-9dd6-360b1d04b338",
   "metadata": {},
   "source": [
    "#### SENDING MAIL OPTION (OPTIONAL)"
   ]
  },
  {
   "cell_type": "raw",
   "id": "031205bc-f819-421c-917b-41acd4ceb4c1",
   "metadata": {},
   "source": [
    "# Sending yourself an email, when a price hits below a certain level \n",
    "\n",
    "def send_mail():\n",
    "    server = smtplib.SMTP_SSL('smtp.gmail.com',465)\n",
    "    server.ehlo()\n",
    "    #server.starttls()\n",
    "    server.ehlo()\n",
    "    server.login('Your_mail_id@gmail.com','password_here')\n",
    "    \n",
    "    subject = \"Your Favourite Mobile is on Discount\"\n",
    "    body = \"\"\"Your Name, This is the moment you have been waiting for. \n",
    "            Now is your chance to pick up the mobile . \n",
    "            Don't mess it up! \n",
    "            Link here: https://www.amazon.in/s?k=vivo+mobiles+5g+new+2025&crid=1PMHMSHMO9VHM&sprefix=vivo+mobiles%2Caps%2C1336&ref=nb_sb_ss_mvt-t11-ranker_1_12\"\"\"   \n",
    "    \n",
    "    msg = f\"Subject: {subject}\\n\\n{body}\"\n",
    "    \n",
    "    server.sendmail(\n",
    "        'Your_mail_id@gmail.com',\n",
    "        msg\n",
    "     \n",
    "    )"
   ]
  },
  {
   "cell_type": "raw",
   "id": "b195966f-d728-44c9-86c7-db1fe24d4dd5",
   "metadata": {},
   "source": [
    "# IF PRICE OF 6th MOBILE COMES UNDER Rs.26000 IT SENDS YOU AN EMAIL\n",
    "if int(Price[6])<26000:\n",
    "    def send_mail()"
   ]
  }
 ],
 "metadata": {
  "kernelspec": {
   "display_name": "Python 3 (ipykernel)",
   "language": "python",
   "name": "python3"
  },
  "language_info": {
   "codemirror_mode": {
    "name": "ipython",
    "version": 3
   },
   "file_extension": ".py",
   "mimetype": "text/x-python",
   "name": "python",
   "nbconvert_exporter": "python",
   "pygments_lexer": "ipython3",
   "version": "3.12.7"
  }
 },
 "nbformat": 4,
 "nbformat_minor": 5
}
