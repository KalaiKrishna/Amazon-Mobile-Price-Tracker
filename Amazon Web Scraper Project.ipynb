{
 "cells": [
  {
   "cell_type": "code",
   "execution_count": 6,
   "id": "52aafcc2-67a0-406b-89b2-650b00e414b0",
   "metadata": {},
   "outputs": [],
   "source": [
    "from bs4 import BeautifulSoup\n",
    "import requests\n",
    "import csv\n",
    "import datetime as dt\n",
    "import time\n",
    "import smtplib"
   ]
  },
  {
   "cell_type": "code",
   "execution_count": 24,
   "id": "0b6efc16-93a8-42d9-a2ea-c21b239a28a1",
   "metadata": {},
   "outputs": [],
   "source": [
    "URL=\"https://www.amazon.in/s?k=vivo+mobiles+5g+new+2025&crid=1PMHMSHMO9VHM&sprefix=vivo+mobiles%2Caps%2C1336&ref=nb_sb_ss_mvt-t11-ranker_1_12\""
   ]
  },
  {
   "cell_type": "code",
   "execution_count": 13,
   "id": "ca0f243d-dae0-4879-93c6-27d1f0d9e2bb",
   "metadata": {},
   "outputs": [],
   "source": [
    "headers = {\"User-Agent\": \"Mozilla/5.0 (Windows NT 10.0; Win64; x64) AppleWebKit/537.36 (KHTML, like Gecko) Chrome/140.0.0.0 Safari/537.36\", \"Accept-Encoding\":\"gzip, deflate\", \"Accept\":\"text/html,application/xhtml+xml,application/xml;q=0.9,*/*;q=0.8\", \"DNT\":\"1\",\"Connection\":\"close\", \"Upgrade-Insecure-Requests\":\"1\"}"
   ]
  },
  {
   "cell_type": "markdown",
   "id": "43f49ec3-223b-4edd-8d2e-cdfc5c8d8778",
   "metadata": {},
   "source": [
    "#### COPY CONTENT FROM WEBPAGE"
   ]
  },
  {
   "cell_type": "code",
   "execution_count": 61,
   "id": "d9405d7d-8ca9-4f65-9943-467eb58dd873",
   "metadata": {},
   "outputs": [],
   "source": [
    "page = requests.get(URL, headers=headers)"
   ]
  },
  {
   "cell_type": "code",
   "execution_count": 62,
   "id": "b94c4d00-4cd9-4f86-be5b-ac98bcde1a33",
   "metadata": {},
   "outputs": [],
   "source": [
    "soup=BeautifulSoup(page.text, \"html\")"
   ]
  },
  {
   "cell_type": "code",
   "execution_count": null,
   "id": "47db0959-dc8c-4f8c-81c8-60759d459d88",
   "metadata": {},
   "outputs": [],
   "source": [
    "print(soup.prettify())"
   ]
  },
  {
   "cell_type": "markdown",
   "id": "93ea6443-83ab-49fa-8ea5-ba19df63d8ae",
   "metadata": {},
   "source": [
    "#### EXTRACT PHONE NAMES FROM WEB"
   ]
  },
  {
   "cell_type": "code",
   "execution_count": 54,
   "id": "f173bd16-3f47-4ce0-a616-2ec0f18f762a",
   "metadata": {},
   "outputs": [
    {
     "data": {
      "text/plain": [
       "[<h2 aria-label=\"Sponsored Ad - iQOO Z10 Lite 5G (Cyber Green, 4GB RAM, 128GB Storage) | 6000 mAh Battery | Dimensity 6300 5G Processor with 433K+* AnTuTu Score | IP64 Rated &amp; Military Grade Shock-Resistance*\" class=\"a-size-medium a-spacing-none a-color-base a-text-normal\"><span>iQOO Z10 Lite 5G (Cyber Green, 4GB RAM, 128GB Storage) | 6000 mAh Battery | Dimensity 6300 5G Processor with 433K+* AnTuTu Score | IP64 Rated &amp; Military Grade Shock-Resistance*</span></h2>,\n",
       " <h2 aria-label=\"VIVO T4 Lite 5G 6GB RAM, 128GB Storage, Titanium Gold | 6.74'' HD+ 90Hz LCD | Dimensity 6300 | 50MP Dual AI Camera | Android 14 | 6000mAh Battery | IP64 | Side Fingerprint | 15W Charging | Dual SIM\" class=\"a-size-medium a-spacing-none a-color-base a-text-normal\"><span>VIVO T4 Lite 5G 6GB RAM, 128GB Storage, Titanium Gold | 6.74'' HD+ 90Hz LCD | Dimensity 6300 | 50MP Dual AI Camera | Android 14 | 6000mAh Battery | IP64 | Side Fingerprint | 15W Charging | Dual SIM</span></h2>,\n",
       " <h2 aria-label=\"Vivo Y39 5G (Lotus Purple, 8GB RAM, 256GB Storage) with No Cost EMI/Additional Exchange Offers\" class=\"a-size-medium a-spacing-none a-color-base a-text-normal\"><span>Vivo Y39 5G (Lotus Purple, 8GB RAM, 256GB Storage) with No Cost EMI/Additional Exchange Offers</span></h2>,\n",
       " <h2 aria-label='VIVO T4R 5G | 6.77\" Quad Curved AMOLED 120Hz Display | 50MP OIS Dual Rear + 32MP Front Camera | Dimensity 7400 | 5700mAh Battery, 44W FlashCharge, IP68 &amp; IP69 (Marine Blue, 8GB RAM + 128GB Storage S)' class=\"a-size-medium a-spacing-none a-color-base a-text-normal\"><span>VIVO T4R 5G | 6.77\" Quad Curved AMOLED 120Hz Display | 50MP OIS Dual Rear + 32MP Front Camera | Dimensity 7400 | 5700mAh Battery, 44W FlashCharge, IP68 &amp; IP69 (Marine Blue, 8GB RAM + 128GB Storage S)</span></h2>,\n",
       " <h2 aria-label=\"VIVO T4x (Pronto Purple, 6GB + 128GB)\" class=\"a-size-medium a-spacing-none a-color-base a-text-normal\"><span>VIVO T4x (Pronto Purple, 6GB + 128GB)</span></h2>,\n",
       " <h2 aria-label=\"VIVO Y19 5G (Titanium Silver, 6GB RAM, 128GB Storage) with No Cost EMI/Additional Exchange Offers\" class=\"a-size-medium a-spacing-none a-color-base a-text-normal\"><span>VIVO Y19 5G (Titanium Silver, 6GB RAM, 128GB Storage) with No Cost EMI/Additional Exchange Offers</span></h2>,\n",
       " <h2 aria-label=\"Vivo Y400 Pro 5G (Nebula Purple, 8GB RAM, 256GB Storage) with No Cost EMI/Additional Exchange Offers\" class=\"a-size-medium a-spacing-none a-color-base a-text-normal\"><span>Vivo Y400 Pro 5G (Nebula Purple, 8GB RAM, 256GB Storage) with No Cost EMI/Additional Exchange Offers</span></h2>,\n",
       " <h2 aria-label=\"Vivo V50 5G (Rose Red, 8GB RAM, 256GB Storage) with No Cost EMI/Additional Exchange Offers\" class=\"a-size-medium a-spacing-none a-color-base a-text-normal\"><span>Vivo V50 5G (Rose Red, 8GB RAM, 256GB Storage) with No Cost EMI/Additional Exchange Offers</span></h2>,\n",
       " <h2 aria-label=\"Vivo Y39 5G (Ocean Blue, 8GB RAM, 256GB Storage) with No Cost EMI/Additional Exchange Offers\" class=\"a-size-medium a-spacing-none a-color-base a-text-normal\"><span>Vivo Y39 5G (Ocean Blue, 8GB RAM, 256GB Storage) with No Cost EMI/Additional Exchange Offers</span></h2>,\n",
       " <h2 aria-label=\"VIVO Y19 5G (Majestic Green, 6GB RAM, 128GB Storage) with No Cost EMI/Additional Exchange Offers\" class=\"a-size-medium a-spacing-none a-color-base a-text-normal\"><span>VIVO Y19 5G (Majestic Green, 6GB RAM, 128GB Storage) with No Cost EMI/Additional Exchange Offers</span></h2>,\n",
       " <h2 aria-label=\"Sponsored Ad - OPPO Reno14 5G (Forest Green, 8GB RAM, 256GB Storage) with No Cost EMI/Additional Exchange Offers\" class=\"a-size-medium a-spacing-none a-color-base a-text-normal\"><span>OPPO Reno14 5G (Forest Green, 8GB RAM, 256GB Storage) with No Cost EMI/Additional Exchange Offers</span></h2>,\n",
       " <h2 aria-label=\"Sponsored Ad - Redmi 15 5G Frosted White 6GB + 128GB | Segment's Largest 7000mAhA Battery | Segment's Largest Display 17.53cm(6.9) Up to 144Hz | Snapdragon 6s Gen 3 | 18W Reverse Charging | 50MP AI Dual Camera\" class=\"a-size-medium a-spacing-none a-color-base a-text-normal\"><span>Redmi 15 5G Frosted White 6GB + 128GB | Segment's Largest 7000mAhA Battery | Segment's Largest Display 17.53cm(6.9) Up to 144Hz | Snapdragon 6s Gen 3 | 18W Reverse Charging | 50MP AI Dual Camera</span></h2>,\n",
       " <h2 aria-label=\"Vivo Y29 5G (Glacier Blue, 6GB RAM, 128GB Storage) with No Cost EMI/Additional Exchange Offers\" class=\"a-size-medium a-spacing-none a-color-base a-text-normal\"><span>Vivo Y29 5G (Glacier Blue, 6GB RAM, 128GB Storage) with No Cost EMI/Additional Exchange Offers</span></h2>,\n",
       " <h2 aria-label=\"Vivo V50e 5G (Sapphire Blue, 8GB RAM, 256GB Storage) with No Cost EMI/Additional Exchange Offers\" class=\"a-size-medium a-spacing-none a-color-base a-text-normal\"><span>Vivo V50e 5G (Sapphire Blue, 8GB RAM, 256GB Storage) with No Cost EMI/Additional Exchange Offers</span></h2>,\n",
       " <h2 aria-label=\"Vivo Y39 5G (Lotus Purple, 8GB RAM, 128GB Storage) with No Cost EMI/Additional Exchange Offers\" class=\"a-size-medium a-spacing-none a-color-base a-text-normal\"><span>Vivo Y39 5G (Lotus Purple, 8GB RAM, 128GB Storage) with No Cost EMI/Additional Exchange Offers</span></h2>,\n",
       " <h2 aria-label=\"Vivo Y400 5G (Olive Green, 8GB RAM, 128GB Storage) with No Cost EMI/Additional Exchange Offers\" class=\"a-size-medium a-spacing-none a-color-base a-text-normal\"><span>Vivo Y400 5G (Olive Green, 8GB RAM, 128GB Storage) with No Cost EMI/Additional Exchange Offers</span></h2>,\n",
       " <h2 aria-label=\"VIVO T4x (Pronto Purple, 8GB, 128GB)\" class=\"a-size-medium a-spacing-none a-color-base a-text-normal\"><span>VIVO T4x (Pronto Purple, 8GB, 128GB)</span></h2>,\n",
       " <h2 aria-label=\"VIVO T4 Lite 5G 4GB RAM, 128GB Storage, Prism Blue | 6.74'' HD+ 90Hz LCD | Dimensity 6300 | 50MP Dual AI Camera | Android 14 | 6000mAh Battery | IP64 | Side Fingerprint | 15W Charging | Dual SIM\" class=\"a-size-medium a-spacing-none a-color-base a-text-normal\"><span>VIVO T4 Lite 5G 4GB RAM, 128GB Storage, Prism Blue | 6.74'' HD+ 90Hz LCD | Dimensity 6300 | 50MP Dual AI Camera | Android 14 | 6000mAh Battery | IP64 | Side Fingerprint | 15W Charging | Dual SIM</span></h2>,\n",
       " <h2 aria-label=\"Vivo V60 5G (Mist Gray, 8GB RAM, 256GB Storage) with No Cost EMI/Additional Exchange Offers\" class=\"a-size-medium a-spacing-none a-color-base a-text-normal\"><span>Vivo V60 5G (Mist Gray, 8GB RAM, 256GB Storage) with No Cost EMI/Additional Exchange Offers</span></h2>,\n",
       " <h2 aria-label=\"Sponsored Ad - Lava Bold 5G (Sapphire Blue, 8GB RAM, 128GB Storage) | 3D Curved FHD+ AMOLED Display | Mediatek Dimensity 6300 Processor | IP64 Water Resistance | 64MP Rear Sensor | Supports All Indian 5G Bands\" class=\"a-size-medium a-spacing-none a-color-base a-text-normal\"><span>Lava Bold 5G (Sapphire Blue, 8GB RAM, 128GB Storage) | 3D Curved FHD+ AMOLED Display | Mediatek Dimensity 6300 Processor | IP64 Water Resistance | 64MP Rear Sensor | Supports All Indian 5G Bands</span></h2>,\n",
       " <h2 aria-label=\"Sponsored Ad - iQOO Z10x 5G (Ultramarine, 8GB RAM, 128GB Storage) | 6500 mAh Large Capacity Battery | Dimensity 7300 Processor | Military-Grade Durability\" class=\"a-size-medium a-spacing-none a-color-base a-text-normal\"><span>iQOO Z10x 5G (Ultramarine, 8GB RAM, 128GB Storage) | 6500 mAh Large Capacity Battery | Dimensity 7300 Processor | Military-Grade Durability</span></h2>,\n",
       " <h2 aria-label=\"Sponsored Ad - Redmi Note 14 Pro+ 5G Titan Black 12GB RAM 512GB Storage| 50 MP Triple Camera with Telephoto | Corning Gorilla Glass Victus 2 | IP 68 | SD 7s Gen 3\" class=\"a-size-medium a-spacing-none a-color-base a-text-normal\"><span>Redmi Note 14 Pro+ 5G Titan Black 12GB RAM 512GB Storage| 50 MP Triple Camera with Telephoto | Corning Gorilla Glass Victus 2 | IP 68 | SD 7s Gen 3</span></h2>,\n",
       " <h2 aria-label=\"KALP Undated Daily Journal Planner KIT with Pocket Diary, 2 Posters, 300+Stickers, Magnetic Bookmark - Hard Bound, 80 GSM - 304 pages, Weekly Spreads, Monthly View, Habit &amp; Budget Tracker (RETRO)\" class=\"a-size-medium a-spacing-none a-color-base a-text-normal\"><span>KALP Undated Daily Journal Planner KIT with Pocket Diary, 2 Posters, 300+Stickers, Magnetic Bookmark - Hard Bound, 80 GSM - 304 pages, Weekly Spreads, Monthly View, Habit &amp; Budget Tracker (RETRO)</span></h2>]"
      ]
     },
     "execution_count": 54,
     "metadata": {},
     "output_type": "execute_result"
    }
   ],
   "source": [
    "s1=soup.find_all('h2',class_=\"a-size-medium a-spacing-none a-color-base a-text-normal\")\n",
    "s1"
   ]
  },
  {
   "cell_type": "code",
   "execution_count": 55,
   "id": "0285ca88-f3bf-46ad-905a-f9d42b45f071",
   "metadata": {},
   "outputs": [
    {
     "data": {
      "text/plain": [
       "['iQOO Z10 Lite 5G (Cyber Green, 4GB RAM, 128GB Storage) | 6000 mAh Battery | Dimensity 6300 5G Processor with 433K+* AnTuTu Score | IP64 Rated & Military Grade Shock-Resistance*',\n",
       " \"VIVO T4 Lite 5G 6GB RAM, 128GB Storage, Titanium Gold | 6.74'' HD+ 90Hz LCD | Dimensity 6300 | 50MP Dual AI Camera | Android 14 | 6000mAh Battery | IP64 | Side Fingerprint | 15W Charging | Dual SIM\",\n",
       " 'Vivo Y39 5G (Lotus Purple, 8GB RAM, 256GB Storage) with No Cost EMI/Additional Exchange Offers',\n",
       " 'VIVO T4R 5G | 6.77\" Quad Curved AMOLED 120Hz Display | 50MP OIS Dual Rear + 32MP Front Camera | Dimensity 7400 | 5700mAh Battery, 44W FlashCharge, IP68 & IP69 (Marine Blue, 8GB RAM + 128GB Storage S)',\n",
       " 'VIVO T4x (Pronto Purple, 6GB + 128GB)',\n",
       " 'VIVO Y19 5G (Titanium Silver, 6GB RAM, 128GB Storage) with No Cost EMI/Additional Exchange Offers',\n",
       " 'Vivo Y400 Pro 5G (Nebula Purple, 8GB RAM, 256GB Storage) with No Cost EMI/Additional Exchange Offers',\n",
       " 'Vivo V50 5G (Rose Red, 8GB RAM, 256GB Storage) with No Cost EMI/Additional Exchange Offers',\n",
       " 'Vivo Y39 5G (Ocean Blue, 8GB RAM, 256GB Storage) with No Cost EMI/Additional Exchange Offers',\n",
       " 'VIVO Y19 5G (Majestic Green, 6GB RAM, 128GB Storage) with No Cost EMI/Additional Exchange Offers',\n",
       " 'OPPO Reno14 5G (Forest Green, 8GB RAM, 256GB Storage) with No Cost EMI/Additional Exchange Offers',\n",
       " \"Redmi 15 5G Frosted White 6GB + 128GB | Segment's Largest 7000mAhA Battery | Segment's Largest Display 17.53cm(6.9) Up to 144Hz | Snapdragon 6s Gen 3 | 18W Reverse Charging | 50MP AI Dual Camera\",\n",
       " 'Vivo Y29 5G (Glacier Blue, 6GB RAM, 128GB Storage) with No Cost EMI/Additional Exchange Offers',\n",
       " 'Vivo V50e 5G (Sapphire Blue, 8GB RAM, 256GB Storage) with No Cost EMI/Additional Exchange Offers',\n",
       " 'Vivo Y39 5G (Lotus Purple, 8GB RAM, 128GB Storage) with No Cost EMI/Additional Exchange Offers',\n",
       " 'Vivo Y400 5G (Olive Green, 8GB RAM, 128GB Storage) with No Cost EMI/Additional Exchange Offers',\n",
       " 'VIVO T4x (Pronto Purple, 8GB, 128GB)',\n",
       " \"VIVO T4 Lite 5G 4GB RAM, 128GB Storage, Prism Blue | 6.74'' HD+ 90Hz LCD | Dimensity 6300 | 50MP Dual AI Camera | Android 14 | 6000mAh Battery | IP64 | Side Fingerprint | 15W Charging | Dual SIM\",\n",
       " 'Vivo V60 5G (Mist Gray, 8GB RAM, 256GB Storage) with No Cost EMI/Additional Exchange Offers',\n",
       " 'Lava Bold 5G (Sapphire Blue, 8GB RAM, 128GB Storage) | 3D Curved FHD+ AMOLED Display | Mediatek Dimensity 6300 Processor | IP64 Water Resistance | 64MP Rear Sensor | Supports All Indian 5G Bands',\n",
       " 'iQOO Z10x 5G (Ultramarine, 8GB RAM, 128GB Storage) | 6500 mAh Large Capacity Battery | Dimensity 7300 Processor | Military-Grade Durability',\n",
       " 'Redmi Note 14 Pro+ 5G Titan Black 12GB RAM 512GB Storage| 50 MP Triple Camera with Telephoto | Corning Gorilla Glass Victus 2 | IP 68 | SD 7s Gen 3',\n",
       " 'KALP Undated Daily Journal Planner KIT with Pocket Diary, 2 Posters, 300+Stickers, Magnetic Bookmark - Hard Bound, 80 GSM - 304 pages, Weekly Spreads, Monthly View, Habit & Budget Tracker (RETRO)']"
      ]
     },
     "execution_count": 55,
     "metadata": {},
     "output_type": "execute_result"
    }
   ],
   "source": [
    "phone_names=[name.text.strip() for name in s1]\n",
    "phone_names"
   ]
  },
  {
   "cell_type": "code",
   "execution_count": 58,
   "id": "89633b26-086d-402b-a5fd-f1f19e6d8f5c",
   "metadata": {},
   "outputs": [
    {
     "data": {
      "text/plain": [
       "['QOO Z10 Lite 5G (Cyber Green, 4GB RAM, 128GB Storage)',\n",
       " 'VIVO T4 Lite 5G 6GB RAM, 128GB Storage, Titanium G',\n",
       " 'Vivo Y39 5G (Lotus Purple, 8GB RAM, 256GB Storage)',\n",
       " 'VIVO T4R 5G',\n",
       " 'VIVO T4x (Pronto Purple, 6GB + 128GB)',\n",
       " 'VIVO Y19 5G (Titanium Silver, 6GB RAM, 128GB Storage)',\n",
       " 'Vivo Y400 Pro 5G (Nebula Purple, 8GB RAM, 256GB Storage)',\n",
       " 'Vivo V50 5G (Rose Red, 8GB RAM, 256GB Storage)',\n",
       " 'Vivo Y39 5G (Ocean Blue, 8GB RAM, 256GB Storage)',\n",
       " 'VIVO Y19 5G (Majestic Green, 6GB RAM, 128GB Storage)',\n",
       " 'PPO Reno14 5G (Forest Green, 8GB RAM, 256GB Storage)',\n",
       " 'Redmi 15 5G Frosted White 6GB + 128GB',\n",
       " 'Vivo Y29 5G (Glacier Blue, 6GB RAM, 128GB Storage)',\n",
       " 'Vivo V50e 5G (Sapphire Blue, 8GB RAM, 256GB Storage)',\n",
       " 'Vivo Y39 5G (Lotus Purple, 8GB RAM, 128GB Storage)',\n",
       " 'Vivo Y400 5G (Olive Green, 8GB RAM, 128GB Storage)',\n",
       " 'VIVO T4x (Pronto Purple, 8GB, 128GB)',\n",
       " 'VIVO T4 Lite 5G 4GB RAM, 128GB Storage, Prism Blu',\n",
       " 'Vivo V60 5G (Mist Gray, 8GB RAM, 256GB Storage)',\n",
       " 'Lava Bold 5G (Sapphire Blue, 8GB RAM, 128GB Storage)',\n",
       " 'QOO Z10x 5G (Ultramarine, 8GB RAM, 128GB Storage)',\n",
       " 'Redmi Note 14 Pro+ 5G Titan Black 12GB RAM 512GB S',\n",
       " 'KALP Undated Daily Journal Planner KIT with Pocket Diary, 2 Posters, 300+Stickers, Magnetic Bookmark - Hard Bound, 80 GSM - 304 pages, Weekly Spreads, Monthly View, Habit & Budget Tracker (RETRO)']"
      ]
     },
     "execution_count": 58,
     "metadata": {},
     "output_type": "execute_result"
    }
   ],
   "source": [
    "mobile_name=[]\n",
    "for i in phone_names:\n",
    "    n=i.split('|')[0]\n",
    "    mobile_name.append(n.strip('with No Cost EMI/Additional Exchange Offers'))\n",
    "mobile_name"
   ]
  },
  {
   "cell_type": "markdown",
   "id": "bb72b6e3-437b-4378-ad51-b21fc31e2017",
   "metadata": {},
   "source": [
    "### EXTRACT PHONE PRICE FROM WEB"
   ]
  },
  {
   "cell_type": "code",
   "execution_count": 65,
   "id": "4a2f1599-67e8-4c35-b0ac-5d4273dda0bf",
   "metadata": {},
   "outputs": [
    {
     "data": {
      "text/plain": [
       "[<span class=\"a-price-whole\">9,998</span>,\n",
       " <span class=\"a-price-whole\">10,999</span>,\n",
       " <span class=\"a-price-whole\">18,999</span>,\n",
       " <span class=\"a-price-whole\">14,999</span>,\n",
       " <span class=\"a-price-whole\">13,999</span>,\n",
       " <span class=\"a-price-whole\">12,999</span>,\n",
       " <span class=\"a-price-whole\">26,998</span>,\n",
       " <span class=\"a-price-whole\">34,999</span>,\n",
       " <span class=\"a-price-whole\">18,999</span>,\n",
       " <span class=\"a-price-whole\">15,499</span>,\n",
       " <span class=\"a-price-whole\">37,998</span>,\n",
       " <span class=\"a-price-whole\">14,998</span>,\n",
       " <span class=\"a-price-whole\">12,999</span>,\n",
       " <span class=\"a-price-whole\">28,999</span>,\n",
       " <span class=\"a-price-whole\">16,999</span>,\n",
       " <span class=\"a-price-whole\">21,998</span>,\n",
       " <span class=\"a-price-whole\">14,999</span>,\n",
       " <span class=\"a-price-whole\">9,999</span>,\n",
       " <span class=\"a-price-whole\">38,999</span>,\n",
       " <span class=\"a-price-whole\">13,998</span>,\n",
       " <span class=\"a-price-whole\">14,998</span>,\n",
       " <span class=\"a-price-whole\">31,999</span>]"
      ]
     },
     "execution_count": 65,
     "metadata": {},
     "output_type": "execute_result"
    }
   ],
   "source": [
    "price=soup.find_all(class_=\"a-price-whole\")\n",
    "price"
   ]
  },
  {
   "cell_type": "code",
   "execution_count": 67,
   "id": "cf64f5fa-44f3-475e-8986-27c541dd5f0b",
   "metadata": {},
   "outputs": [
    {
     "data": {
      "text/plain": [
       "['9,998',\n",
       " '10,999',\n",
       " '18,999',\n",
       " '14,999',\n",
       " '13,999',\n",
       " '12,999',\n",
       " '26,998',\n",
       " '34,999',\n",
       " '18,999',\n",
       " '15,499',\n",
       " '37,998',\n",
       " '14,998',\n",
       " '12,999',\n",
       " '28,999',\n",
       " '16,999',\n",
       " '21,998',\n",
       " '14,999',\n",
       " '9,999',\n",
       " '38,999',\n",
       " '13,998',\n",
       " '14,998',\n",
       " '31,999']"
      ]
     },
     "execution_count": 67,
     "metadata": {},
     "output_type": "execute_result"
    }
   ],
   "source": [
    "Price=[rate.text.strip() for rate in price]\n",
    "Price"
   ]
  },
  {
   "cell_type": "markdown",
   "id": "0294401c-27cd-492b-a6d6-32ef135b399d",
   "metadata": {},
   "source": [
    "### Create a Timestamp for your output to track when data was collected"
   ]
  },
  {
   "cell_type": "code",
   "execution_count": 60,
   "id": "d6a8e1a6-b86a-4cad-b340-031cf6224ae7",
   "metadata": {},
   "outputs": [
    {
     "name": "stdout",
     "output_type": "stream",
     "text": [
      "2025-09-16\n"
     ]
    }
   ],
   "source": [
    "today = datetime.date.today()\n",
    "print(today)"
   ]
  },
  {
   "cell_type": "markdown",
   "id": "ef8aba44-c732-4abe-97a7-4ab5521b44a6",
   "metadata": {},
   "source": [
    "#### CREATE CSV AND WRITE HEADERS"
   ]
  },
  {
   "cell_type": "raw",
   "id": "dd15fa61-dc1d-4c62-b5e9-0c05fcddd58f",
   "metadata": {},
   "source": [
    "RUN FIRST TIME ONLY AND THEN COMMENT IT\n",
    "OTHERWISE IT OVERWRITE THE PREVIOUS CONTENT"
   ]
  },
  {
   "cell_type": "code",
   "execution_count": 83,
   "id": "3a9058ff-d6bc-4d32-b0bf-8c1220870f20",
   "metadata": {},
   "outputs": [],
   "source": [
    "header = ['Mobile Name', 'Price', 'Date']\n",
    "with open('Mobile_Price_Dataset.csv', 'w', newline='',encoding='UTF8') as f:\n",
    "    writer = csv.writer(f)\n",
    "    writer.writerow(header)"
   ]
  },
  {
   "cell_type": "markdown",
   "id": "d08a5374-6ad0-402b-9374-9843366e5af2",
   "metadata": {},
   "source": [
    "#### LOAD DATA INTO THE CSV FILE"
   ]
  },
  {
   "cell_type": "code",
   "execution_count": 75,
   "id": "44262920-a85e-4fa2-8c6a-fc0be4be8084",
   "metadata": {},
   "outputs": [
    {
     "data": {
      "text/plain": [
       "'KALP Undated Daily Journal Planner KIT with Pocket Diary, 2 Posters, 300+Stickers, Magnetic Bookmark - Hard Bound, 80 GSM - 304 pages, Weekly Spreads, Monthly View, Habit & Budget Tracker (RETRO)'"
      ]
     },
     "execution_count": 75,
     "metadata": {},
     "output_type": "execute_result"
    }
   ],
   "source": [
    "mobile_name.pop()"
   ]
  },
  {
   "cell_type": "raw",
   "id": "0871b540-fe0e-4c83-843f-6fe0877c4058",
   "metadata": {},
   "source": [
    "CHECK BOTH LIST HAS SAME LENGTH BEFORE LOADING"
   ]
  },
  {
   "cell_type": "code",
   "execution_count": 84,
   "id": "2cc1869a-c9c4-4be0-a04a-1b390bd908ef",
   "metadata": {},
   "outputs": [
    {
     "name": "stdout",
     "output_type": "stream",
     "text": [
      "22\n",
      "22\n"
     ]
    }
   ],
   "source": [
    "print(len(mobile_name))\n",
    "print(len(Price))"
   ]
  },
  {
   "cell_type": "code",
   "execution_count": 85,
   "id": "2e697f06-6601-4e66-a98e-5aaae6c77fec",
   "metadata": {},
   "outputs": [],
   "source": [
    "for i in range(len(mobile_name)):\n",
    "    data = [mobile_name[i], Price[i], today]\n",
    "    with open('Mobile_Price_Dataset.csv', 'a', encoding='UTF8') as f:\n",
    "        writer = csv.writer(f)\n",
    "        writer.writerow(data)"
   ]
  },
  {
   "cell_type": "raw",
   "id": "4e697afd-cea1-4a9d-b470-e29a57a98983",
   "metadata": {},
   "source": [
    "CHECK THE CSV FILE IF IT IS SUCCESSFULLY LOADED"
   ]
  },
  {
   "cell_type": "markdown",
   "id": "87771358-9961-40f5-a0d5-6f3fe3c29d4c",
   "metadata": {},
   "source": [
    "#### USING PANDAS TO VIEW CSV FILE"
   ]
  },
  {
   "cell_type": "code",
   "execution_count": 86,
   "id": "b6ff2948-31db-494d-9586-8c387c4f5511",
   "metadata": {},
   "outputs": [
    {
     "data": {
      "text/html": [
       "<div>\n",
       "<style scoped>\n",
       "    .dataframe tbody tr th:only-of-type {\n",
       "        vertical-align: middle;\n",
       "    }\n",
       "\n",
       "    .dataframe tbody tr th {\n",
       "        vertical-align: top;\n",
       "    }\n",
       "\n",
       "    .dataframe thead th {\n",
       "        text-align: right;\n",
       "    }\n",
       "</style>\n",
       "<table border=\"1\" class=\"dataframe\">\n",
       "  <thead>\n",
       "    <tr style=\"text-align: right;\">\n",
       "      <th></th>\n",
       "      <th>Mobile Name</th>\n",
       "      <th>Price</th>\n",
       "      <th>Date</th>\n",
       "    </tr>\n",
       "  </thead>\n",
       "  <tbody>\n",
       "    <tr>\n",
       "      <th>0</th>\n",
       "      <td>QOO Z10 Lite 5G (Cyber Green, 4GB RAM, 128GB S...</td>\n",
       "      <td>9,998</td>\n",
       "      <td>2025-09-16</td>\n",
       "    </tr>\n",
       "    <tr>\n",
       "      <th>1</th>\n",
       "      <td>VIVO T4 Lite 5G 6GB RAM, 128GB Storage, Titani...</td>\n",
       "      <td>10,999</td>\n",
       "      <td>2025-09-16</td>\n",
       "    </tr>\n",
       "    <tr>\n",
       "      <th>2</th>\n",
       "      <td>Vivo Y39 5G (Lotus Purple, 8GB RAM, 256GB Stor...</td>\n",
       "      <td>18,999</td>\n",
       "      <td>2025-09-16</td>\n",
       "    </tr>\n",
       "    <tr>\n",
       "      <th>3</th>\n",
       "      <td>VIVO T4R 5G</td>\n",
       "      <td>14,999</td>\n",
       "      <td>2025-09-16</td>\n",
       "    </tr>\n",
       "    <tr>\n",
       "      <th>4</th>\n",
       "      <td>VIVO T4x (Pronto Purple, 6GB + 128GB)</td>\n",
       "      <td>13,999</td>\n",
       "      <td>2025-09-16</td>\n",
       "    </tr>\n",
       "    <tr>\n",
       "      <th>5</th>\n",
       "      <td>VIVO Y19 5G (Titanium Silver, 6GB RAM, 128GB S...</td>\n",
       "      <td>12,999</td>\n",
       "      <td>2025-09-16</td>\n",
       "    </tr>\n",
       "    <tr>\n",
       "      <th>6</th>\n",
       "      <td>Vivo Y400 Pro 5G (Nebula Purple, 8GB RAM, 256G...</td>\n",
       "      <td>26,998</td>\n",
       "      <td>2025-09-16</td>\n",
       "    </tr>\n",
       "    <tr>\n",
       "      <th>7</th>\n",
       "      <td>Vivo V50 5G (Rose Red, 8GB RAM, 256GB Storage)</td>\n",
       "      <td>34,999</td>\n",
       "      <td>2025-09-16</td>\n",
       "    </tr>\n",
       "    <tr>\n",
       "      <th>8</th>\n",
       "      <td>Vivo Y39 5G (Ocean Blue, 8GB RAM, 256GB Storage)</td>\n",
       "      <td>18,999</td>\n",
       "      <td>2025-09-16</td>\n",
       "    </tr>\n",
       "    <tr>\n",
       "      <th>9</th>\n",
       "      <td>VIVO Y19 5G (Majestic Green, 6GB RAM, 128GB St...</td>\n",
       "      <td>15,499</td>\n",
       "      <td>2025-09-16</td>\n",
       "    </tr>\n",
       "    <tr>\n",
       "      <th>10</th>\n",
       "      <td>PPO Reno14 5G (Forest Green, 8GB RAM, 256GB St...</td>\n",
       "      <td>37,998</td>\n",
       "      <td>2025-09-16</td>\n",
       "    </tr>\n",
       "    <tr>\n",
       "      <th>11</th>\n",
       "      <td>Redmi 15 5G Frosted White 6GB + 128GB</td>\n",
       "      <td>14,998</td>\n",
       "      <td>2025-09-16</td>\n",
       "    </tr>\n",
       "    <tr>\n",
       "      <th>12</th>\n",
       "      <td>Vivo Y29 5G (Glacier Blue, 6GB RAM, 128GB Stor...</td>\n",
       "      <td>12,999</td>\n",
       "      <td>2025-09-16</td>\n",
       "    </tr>\n",
       "    <tr>\n",
       "      <th>13</th>\n",
       "      <td>Vivo V50e 5G (Sapphire Blue, 8GB RAM, 256GB St...</td>\n",
       "      <td>28,999</td>\n",
       "      <td>2025-09-16</td>\n",
       "    </tr>\n",
       "    <tr>\n",
       "      <th>14</th>\n",
       "      <td>Vivo Y39 5G (Lotus Purple, 8GB RAM, 128GB Stor...</td>\n",
       "      <td>16,999</td>\n",
       "      <td>2025-09-16</td>\n",
       "    </tr>\n",
       "    <tr>\n",
       "      <th>15</th>\n",
       "      <td>Vivo Y400 5G (Olive Green, 8GB RAM, 128GB Stor...</td>\n",
       "      <td>21,998</td>\n",
       "      <td>2025-09-16</td>\n",
       "    </tr>\n",
       "    <tr>\n",
       "      <th>16</th>\n",
       "      <td>VIVO T4x (Pronto Purple, 8GB, 128GB)</td>\n",
       "      <td>14,999</td>\n",
       "      <td>2025-09-16</td>\n",
       "    </tr>\n",
       "    <tr>\n",
       "      <th>17</th>\n",
       "      <td>VIVO T4 Lite 5G 4GB RAM, 128GB Storage, Prism Blu</td>\n",
       "      <td>9,999</td>\n",
       "      <td>2025-09-16</td>\n",
       "    </tr>\n",
       "    <tr>\n",
       "      <th>18</th>\n",
       "      <td>Vivo V60 5G (Mist Gray, 8GB RAM, 256GB Storage)</td>\n",
       "      <td>38,999</td>\n",
       "      <td>2025-09-16</td>\n",
       "    </tr>\n",
       "    <tr>\n",
       "      <th>19</th>\n",
       "      <td>Lava Bold 5G (Sapphire Blue, 8GB RAM, 128GB St...</td>\n",
       "      <td>13,998</td>\n",
       "      <td>2025-09-16</td>\n",
       "    </tr>\n",
       "    <tr>\n",
       "      <th>20</th>\n",
       "      <td>QOO Z10x 5G (Ultramarine, 8GB RAM, 128GB Storage)</td>\n",
       "      <td>14,998</td>\n",
       "      <td>2025-09-16</td>\n",
       "    </tr>\n",
       "    <tr>\n",
       "      <th>21</th>\n",
       "      <td>Redmi Note 14 Pro+ 5G Titan Black 12GB RAM 512...</td>\n",
       "      <td>31,999</td>\n",
       "      <td>2025-09-16</td>\n",
       "    </tr>\n",
       "  </tbody>\n",
       "</table>\n",
       "</div>"
      ],
      "text/plain": [
       "                                          Mobile Name   Price        Date\n",
       "0   QOO Z10 Lite 5G (Cyber Green, 4GB RAM, 128GB S...   9,998  2025-09-16\n",
       "1   VIVO T4 Lite 5G 6GB RAM, 128GB Storage, Titani...  10,999  2025-09-16\n",
       "2   Vivo Y39 5G (Lotus Purple, 8GB RAM, 256GB Stor...  18,999  2025-09-16\n",
       "3                                         VIVO T4R 5G  14,999  2025-09-16\n",
       "4               VIVO T4x (Pronto Purple, 6GB + 128GB)  13,999  2025-09-16\n",
       "5   VIVO Y19 5G (Titanium Silver, 6GB RAM, 128GB S...  12,999  2025-09-16\n",
       "6   Vivo Y400 Pro 5G (Nebula Purple, 8GB RAM, 256G...  26,998  2025-09-16\n",
       "7      Vivo V50 5G (Rose Red, 8GB RAM, 256GB Storage)  34,999  2025-09-16\n",
       "8    Vivo Y39 5G (Ocean Blue, 8GB RAM, 256GB Storage)  18,999  2025-09-16\n",
       "9   VIVO Y19 5G (Majestic Green, 6GB RAM, 128GB St...  15,499  2025-09-16\n",
       "10  PPO Reno14 5G (Forest Green, 8GB RAM, 256GB St...  37,998  2025-09-16\n",
       "11              Redmi 15 5G Frosted White 6GB + 128GB  14,998  2025-09-16\n",
       "12  Vivo Y29 5G (Glacier Blue, 6GB RAM, 128GB Stor...  12,999  2025-09-16\n",
       "13  Vivo V50e 5G (Sapphire Blue, 8GB RAM, 256GB St...  28,999  2025-09-16\n",
       "14  Vivo Y39 5G (Lotus Purple, 8GB RAM, 128GB Stor...  16,999  2025-09-16\n",
       "15  Vivo Y400 5G (Olive Green, 8GB RAM, 128GB Stor...  21,998  2025-09-16\n",
       "16               VIVO T4x (Pronto Purple, 8GB, 128GB)  14,999  2025-09-16\n",
       "17  VIVO T4 Lite 5G 4GB RAM, 128GB Storage, Prism Blu   9,999  2025-09-16\n",
       "18    Vivo V60 5G (Mist Gray, 8GB RAM, 256GB Storage)  38,999  2025-09-16\n",
       "19  Lava Bold 5G (Sapphire Blue, 8GB RAM, 128GB St...  13,998  2025-09-16\n",
       "20  QOO Z10x 5G (Ultramarine, 8GB RAM, 128GB Storage)  14,998  2025-09-16\n",
       "21  Redmi Note 14 Pro+ 5G Titan Black 12GB RAM 512...  31,999  2025-09-16"
      ]
     },
     "execution_count": 86,
     "metadata": {},
     "output_type": "execute_result"
    }
   ],
   "source": [
    "import pandas as pd\n",
    "\n",
    "df = pd.read_csv('Mobile_Price_Dataset.csv')\n",
    "df"
   ]
  },
  {
   "cell_type": "markdown",
   "id": "03e717f7-daf4-43eb-81bb-f5dac67da6a1",
   "metadata": {},
   "source": [
    "#### FOR DAILY PRICE UPDATES ON CSV FILE"
   ]
  },
  {
   "cell_type": "raw",
   "id": "28728628-c3c1-4739-89d7-a370e2dc9da2",
   "metadata": {},
   "source": [
    "Combine all of the above code into one function"
   ]
  },
  {
   "cell_type": "code",
   "execution_count": null,
   "id": "4f8ec699-da31-4874-b3b7-f9d668da4421",
   "metadata": {},
   "outputs": [],
   "source": [
    "def check_price():\n",
    "    \n",
    "    URL=\"https://www.amazon.in/s?k=vivo+mobiles+5g+new+2025&crid=1PMHMSHMO9VHM&sprefix=vivo+mobiles%2Caps%2C1336&ref=nb_sb_ss_mvt-t11-ranker_1_12\"\n",
    "    headers = {\"User-Agent\": \"Mozilla/5.0 (Windows NT 10.0; Win64; x64) AppleWebKit/537.36 (KHTML, like Gecko) Chrome/140.0.0.0 Safari/537.36\", \"Accept-Encoding\":\"gzip, deflate\", \"Accept\":\"text/html,application/xhtml+xml,application/xml;q=0.9,*/*;q=0.8\", \"DNT\":\"1\",\"Connection\":\"close\", \"Upgrade-Insecure-Requests\":\"1\"}\n",
    "\n",
    "    # COPY CONTENT FROM WEBPAGE\n",
    "    page = requests.get(URL, headers=headers)\n",
    "    soup=BeautifulSoup(page.text, \"html\")\n",
    "    \n",
    "    # EXTRACT PHONE NAMES FROM WEB\n",
    "    s1=soup.find_all('h2',class_=\"a-size-medium a-spacing-none a-color-base a-text-normal\")\n",
    "\n",
    "    phone_names=[name.text.strip() for name in s1]\n",
    "\n",
    "    mobile_name=[]\n",
    "    for i in phone_names:\n",
    "        n=i.split('|')[0]\n",
    "        mobile_name.append(n.strip('with No Cost EMI/Additional Exchange Offers'))\n",
    "\n",
    "    # EXTRACT PHONE PRICE FROM WEB\n",
    "    price=soup.find_all(class_=\"a-price-whole\")\n",
    "    Price=[rate.text.strip() for rate in price]\n",
    "\n",
    "    # Create a Timestamp for your output to track when data was collected\n",
    "    today = datetime.date.today()\n",
    "\n",
    "    # LOAD DATA INTO THE CSV FILE\n",
    "    for i in range(len(mobile_name)):\n",
    "        data = [mobile_name[i], Price[i], today]\n",
    "        with open('Mobile_Price_Dataset.csv', 'a', encoding='UTF8') as f:\n",
    "            writer = csv.writer(f)\n",
    "            writer.writerow(data)"
   ]
  },
  {
   "cell_type": "raw",
   "id": "c4119fec-c138-4615-baf2-9851e575ec87",
   "metadata": {},
   "source": [
    "# Runs check_price after setting a time and it load data into your CSV\n",
    "\n",
    "while(True):\n",
    "    check_price()\n",
    "    time.sleep(86400) # here 86400 represents, 1 day --> 86400 seconds"
   ]
  },
  {
   "cell_type": "markdown",
   "id": "f2b7e53c-9888-4708-9dd6-360b1d04b338",
   "metadata": {},
   "source": [
    "#### SENDING MAIL OPTION (OPTIONAL)"
   ]
  },
  {
   "cell_type": "raw",
   "id": "031205bc-f819-421c-917b-41acd4ceb4c1",
   "metadata": {},
   "source": [
    "# Sending yourself an email, when a price hits below a certain level \n",
    "\n",
    "def send_mail():\n",
    "    server = smtplib.SMTP_SSL('smtp.gmail.com',465)\n",
    "    server.ehlo()\n",
    "    #server.starttls()\n",
    "    server.ehlo()\n",
    "    server.login('Your_mail_id@gmail.com','password_here')\n",
    "    \n",
    "    subject = \"Your Favourite Mobile is on Discount\"\n",
    "    body = \"\"\"Your Name, This is the moment you have been waiting for. \n",
    "            Now is your chance to pick up the mobile . \n",
    "            Don't mess it up! \n",
    "            Link here: https://www.amazon.in/s?k=vivo+mobiles+5g+new+2025&crid=1PMHMSHMO9VHM&sprefix=vivo+mobiles%2Caps%2C1336&ref=nb_sb_ss_mvt-t11-ranker_1_12\"\"\"   \n",
    "    \n",
    "    msg = f\"Subject: {subject}\\n\\n{body}\"\n",
    "    \n",
    "    server.sendmail(\n",
    "        'Your_mail_id@gmail.com',\n",
    "        msg\n",
    "     \n",
    "    )"
   ]
  },
  {
   "cell_type": "raw",
   "id": "b195966f-d728-44c9-86c7-db1fe24d4dd5",
   "metadata": {},
   "source": [
    "# IF PRICE OF 6th MOBILE COMES UNDER Rs.26000 IT SENDS YOU AN EMAIL\n",
    "if int(Price[6])<26000:\n",
    "    def send_mail()"
   ]
  }
 ],
 "metadata": {
  "kernelspec": {
   "display_name": "Python 3 (ipykernel)",
   "language": "python",
   "name": "python3"
  },
  "language_info": {
   "codemirror_mode": {
    "name": "ipython",
    "version": 3
   },
   "file_extension": ".py",
   "mimetype": "text/x-python",
   "name": "python",
   "nbconvert_exporter": "python",
   "pygments_lexer": "ipython3",
   "version": "3.12.7"
  }
 },
 "nbformat": 4,
 "nbformat_minor": 5
}
